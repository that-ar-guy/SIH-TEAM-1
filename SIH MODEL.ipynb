{
 "cells": [
  {
   "cell_type": "code",
   "execution_count": 1,
   "metadata": {
    "colab": {
     "base_uri": "https://localhost:8080/"
    },
    "executionInfo": {
     "elapsed": 4210,
     "status": "ok",
     "timestamp": 1727282695240,
     "user": {
      "displayName": "Mohammed Abdul Rahman",
      "userId": "09326645253687834254"
     },
     "user_tz": -330
    },
    "id": "49bUCoCYVHsE",
    "outputId": "49b42149-9ff3-4e31-930b-a9d70fcbb41a"
   },
   "outputs": [
    {
     "ename": "ModuleNotFoundError",
     "evalue": "No module named 'google.colab'",
     "output_type": "error",
     "traceback": [
      "\u001b[1;31m---------------------------------------------------------------------------\u001b[0m",
      "\u001b[1;31mModuleNotFoundError\u001b[0m                       Traceback (most recent call last)",
      "Cell \u001b[1;32mIn[1], line 1\u001b[0m\n\u001b[1;32m----> 1\u001b[0m \u001b[38;5;28;01mfrom\u001b[39;00m \u001b[38;5;21;01mgoogle\u001b[39;00m\u001b[38;5;21;01m.\u001b[39;00m\u001b[38;5;21;01mcolab\u001b[39;00m \u001b[38;5;28;01mimport\u001b[39;00m drive\n\u001b[0;32m      2\u001b[0m drive\u001b[38;5;241m.\u001b[39mmount(\u001b[38;5;124m'\u001b[39m\u001b[38;5;124m/content/drive\u001b[39m\u001b[38;5;124m'\u001b[39m)\n",
      "\u001b[1;31mModuleNotFoundError\u001b[0m: No module named 'google.colab'"
     ]
    }
   ],
   "source": [
    "from google.colab import drive\n",
    "drive.mount('/content/drive')\n",
    "\n",
    "\n"
   ]
  },
  {
   "cell_type": "code",
   "execution_count": 9,
   "metadata": {},
   "outputs": [
    {
     "name": "stdout",
     "output_type": "stream",
     "text": [
      "Retrieving notices: ...working... done\n",
      "Channels:\n",
      " - defaults\n",
      " - conda-forge\n",
      "Platform: win-64\n",
      "Collecting package metadata (repodata.json): ...working... \n"
     ]
    },
    {
     "name": "stderr",
     "output_type": "stream",
     "text": [
      "Out of memory allocating 30408704 bytes!\n"
     ]
    }
   ],
   "source": [
    "!conda install tensorflow scikit-image jupyter matplotlib numpy pandas\n"
   ]
  },
  {
   "cell_type": "code",
   "execution_count": 7,
   "metadata": {
    "executionInfo": {
     "elapsed": 2870,
     "status": "ok",
     "timestamp": 1727286375471,
     "user": {
      "displayName": "Mohammed Abdul Rahman",
      "userId": "09326645253687834254"
     },
     "user_tz": -330
    },
    "id": "bBZSbs66VP-N"
   },
   "outputs": [
    {
     "ename": "ModuleNotFoundError",
     "evalue": "No module named 'rasterio'",
     "output_type": "error",
     "traceback": [
      "\u001b[1;31m---------------------------------------------------------------------------\u001b[0m",
      "\u001b[1;31mModuleNotFoundError\u001b[0m                       Traceback (most recent call last)",
      "Cell \u001b[1;32mIn[7], line 2\u001b[0m\n\u001b[0;32m      1\u001b[0m \u001b[38;5;28;01mimport\u001b[39;00m \u001b[38;5;21;01mnumpy\u001b[39;00m \u001b[38;5;28;01mas\u001b[39;00m \u001b[38;5;21;01mnp\u001b[39;00m\n\u001b[1;32m----> 2\u001b[0m \u001b[38;5;28;01mimport\u001b[39;00m \u001b[38;5;21;01mrasterio\u001b[39;00m\n\u001b[0;32m      3\u001b[0m \u001b[38;5;28;01mfrom\u001b[39;00m \u001b[38;5;21;01mrasterio\u001b[39;00m\u001b[38;5;21;01m.\u001b[39;00m\u001b[38;5;21;01mfeatures\u001b[39;00m \u001b[38;5;28;01mimport\u001b[39;00m rasterize\n\u001b[0;32m      4\u001b[0m \u001b[38;5;28;01mimport\u001b[39;00m \u001b[38;5;21;01mgeopandas\u001b[39;00m \u001b[38;5;28;01mas\u001b[39;00m \u001b[38;5;21;01mgpd\u001b[39;00m\n",
      "\u001b[1;31mModuleNotFoundError\u001b[0m: No module named 'rasterio'"
     ]
    }
   ],
   "source": [
    "import numpy as np\n",
    "import rasterio\n",
    "from rasterio.features import rasterize\n",
    "import geopandas as gpd\n",
    "from osgeo import gdal\n",
    "import fiona\n"
   ]
  },
  {
   "cell_type": "code",
   "execution_count": 4,
   "metadata": {
    "executionInfo": {
     "elapsed": 16,
     "status": "ok",
     "timestamp": 1727286375473,
     "user": {
      "displayName": "Mohammed Abdul Rahman",
      "userId": "09326645253687834254"
     },
     "user_tz": -330
    },
    "id": "bEIq-m2uXQU6"
   },
   "outputs": [],
   "source": [
    "# Step 3: Define file paths\n",
    "tiff_path = \"/content/drive/My Drive/Chhattisgarh_2/ecw/chattissgarh.tif\"\n",
    "gdb_path = \"/content/drive/My Drive/Chhattisgarh_2/Chhattisgarh_Svamitva.gdb\"\n",
    "\n"
   ]
  },
  {
   "cell_type": "code",
   "execution_count": 5,
   "metadata": {
    "colab": {
     "base_uri": "https://localhost:8080/"
    },
    "executionInfo": {
     "elapsed": 14,
     "status": "ok",
     "timestamp": 1727286375473,
     "user": {
      "displayName": "Mohammed Abdul Rahman",
      "userId": "09326645253687834254"
     },
     "user_tz": -330
    },
    "id": "YWlTUpkQXUnv",
    "outputId": "cd49f044-a1d3-481b-ff6f-fe37ca5ba253"
   },
   "outputs": [
    {
     "name": "stdout",
     "output_type": "stream",
     "text": [
      "TIFF file loaded successfully\n"
     ]
    }
   ],
   "source": [
    "# Step 4: Load raster data\n",
    "tiff_dataset = gdal.Open(tiff_path)\n",
    "if tiff_dataset is None:\n",
    "    print(\"Failed to load TIFF file!\")\n",
    "else:\n",
    "    print(\"TIFF file loaded successfully\")"
   ]
  },
  {
   "cell_type": "code",
   "execution_count": 6,
   "metadata": {
    "executionInfo": {
     "elapsed": 5125,
     "status": "ok",
     "timestamp": 1727286380590,
     "user": {
      "displayName": "Mohammed Abdul Rahman",
      "userId": "09326645253687834254"
     },
     "user_tz": -330
    },
    "id": "pPPQolmFX5JW"
   },
   "outputs": [],
   "source": [
    "# Step 5: Get raster band and size\n",
    "raster_band = tiff_dataset.GetRasterBand(1)\n",
    "raster_data = raster_band.ReadAsArray()\n",
    "height, width = raster_data.shape\n"
   ]
  },
  {
   "cell_type": "code",
   "execution_count": 7,
   "metadata": {
    "executionInfo": {
     "elapsed": 18,
     "status": "ok",
     "timestamp": 1727286380592,
     "user": {
      "displayName": "Mohammed Abdul Rahman",
      "userId": "09326645253687834254"
     },
     "user_tz": -330
    },
    "id": "x4XVRloA04kK"
   },
   "outputs": [],
   "source": [
    "chunk_size = 1000  # Define your chunk size\n",
    "width = tiff_dataset.RasterXSize\n",
    "height = tiff_dataset.RasterYSize"
   ]
  },
  {
   "cell_type": "code",
   "execution_count": 8,
   "metadata": {
    "colab": {
     "base_uri": "https://localhost:8080/"
    },
    "executionInfo": {
     "elapsed": 16,
     "status": "ok",
     "timestamp": 1727286380592,
     "user": {
      "displayName": "Mohammed Abdul Rahman",
      "userId": "09326645253687834254"
     },
     "user_tz": -330
    },
    "id": "Z47KarVo3jzC",
    "outputId": "f08fbc26-0216-4341-bcc8-0f054ec1c3c1"
   },
   "outputs": [
    {
     "name": "stdout",
     "output_type": "stream",
     "text": [
      "Available Layers: ['Built_Up_Area_type', 'Water_Body', 'Waterbody_Point', 'Railway', 'Bridge', 'Utility', 'Road_Centre_Line', 'Road', 'Water_Body_Line', 'Road_line']\n"
     ]
    }
   ],
   "source": [
    "layers = fiona.listlayers(gdb_path)\n",
    "print(\"Available Layers:\", layers)"
   ]
  },
  {
   "cell_type": "code",
   "execution_count": 9,
   "metadata": {
    "executionInfo": {
     "elapsed": 511,
     "status": "ok",
     "timestamp": 1727286381093,
     "user": {
      "displayName": "Mohammed Abdul Rahman",
      "userId": "09326645253687834254"
     },
     "user_tz": -330
    },
    "id": "Rrq4JDnH3m7z"
   },
   "outputs": [],
   "source": [
    "# Step 7: Read relevant vector layers\n",
    "built_up_area_features = gpd.read_file(gdb_path, layer='Built_Up_Area_type')\n",
    "water_features = gpd.read_file(gdb_path, layer='Water_Body')\n",
    "road_features = gpd.read_file(gdb_path, layer='Road_Centre_Line')\n"
   ]
  },
  {
   "cell_type": "code",
   "execution_count": 10,
   "metadata": {
    "executionInfo": {
     "elapsed": 12,
     "status": "ok",
     "timestamp": 1727286381093,
     "user": {
      "displayName": "Mohammed Abdul Rahman",
      "userId": "09326645253687834254"
     },
     "user_tz": -330
    },
    "id": "SoL5Ify835WM"
   },
   "outputs": [],
   "source": [
    "# Step 8: Check for empty geometries and filter them out\n",
    "def filter_empty_geometries(gdf):\n",
    "    \"\"\"Filter out geometries that are invalid or empty.\"\"\"\n",
    "    valid_geometries = gdf[gdf.is_valid & ~gdf.is_empty]\n",
    "    return valid_geometries"
   ]
  },
  {
   "cell_type": "code",
   "execution_count": 11,
   "metadata": {
    "executionInfo": {
     "elapsed": 737,
     "status": "ok",
     "timestamp": 1727286381819,
     "user": {
      "displayName": "Mohammed Abdul Rahman",
      "userId": "09326645253687834254"
     },
     "user_tz": -330
    },
    "id": "U6xSDxqI3_eh"
   },
   "outputs": [],
   "source": [
    "built_up_area_features = filter_empty_geometries(built_up_area_features)\n",
    "water_features = filter_empty_geometries(water_features)\n",
    "road_features = filter_empty_geometries(road_features)\n"
   ]
  },
  {
   "cell_type": "code",
   "execution_count": 12,
   "metadata": {
    "colab": {
     "base_uri": "https://localhost:8080/"
    },
    "executionInfo": {
     "elapsed": 13,
     "status": "ok",
     "timestamp": 1727286381819,
     "user": {
      "displayName": "Mohammed Abdul Rahman",
      "userId": "09326645253687834254"
     },
     "user_tz": -330
    },
    "id": "55u1PzT35jol",
    "outputId": "f91d53ff-28ac-4c25-c03d-c114a55869b1"
   },
   "outputs": [
    {
     "name": "stdout",
     "output_type": "stream",
     "text": [
      "  GlobalID Uniq_Id State_Code District_Code Tehsil_Code Block_Code  \\\n",
      "0     None                 22           719         719       3629   \n",
      "1     None                 22           719         719       3629   \n",
      "2     None                 22           719         719       3629   \n",
      "3     None                 22           719         719       3629   \n",
      "4     None                 22           719         719       3629   \n",
      "\n",
      "  Village_Code LGD_Code  Built_Up_Area_type Village_Name  ...    Area_Sqm  \\\n",
      "0       443193   443193                   1        AMORA  ...   10.126829   \n",
      "1       443193   443193                   1        AMORA  ...   10.691340   \n",
      "2       443193   443193                   1        AMORA  ...    8.892256   \n",
      "3       443193   443193                   1        AMORA  ...  142.584709   \n",
      "4       443193   443193                   1        AMORA  ...    4.850011   \n",
      "\n",
      "  Roof_type No_Floors Remarks Adl_Info  SHAPE_Length  SHAPE_Area  GP_Code  \\\n",
      "0       2.0       1.0                      14.045159   11.636509   124051   \n",
      "1       1.0       1.0                      14.056312   12.284951   124051   \n",
      "2       3.0       1.0                      13.067136   10.217631   124051   \n",
      "3       1.0       1.0                      53.254274  163.837765   124051   \n",
      "4       1.0       1.0                      12.190856    5.573026   124051   \n",
      "\n",
      "  GP_Name                                           geometry  \n",
      "0   AMORA  MULTIPOLYGON (((9053859.552 2360072.878, 90538...  \n",
      "1   AMORA  MULTIPOLYGON (((9053854.898 2360062.889, 90538...  \n",
      "2   AMORA  MULTIPOLYGON (((9053850.612 2360080.802, 90538...  \n",
      "3   AMORA  MULTIPOLYGON (((9053849.49 2360078.102, 905385...  \n",
      "4   AMORA  MULTIPOLYGON (((9053771.627 2360078.923, 90537...  \n",
      "\n",
      "[5 rows x 25 columns]\n",
      "\n",
      "  GlobalID State_Code District_Code Tehsil_Code Block_Code Village_Code  \\\n",
      "0     None         22           719        3321       3629       443192   \n",
      "1     None         22           719        3321       3629       443192   \n",
      "2     None         22           719        3321       3629       443192   \n",
      "3     None         22           719        3321       3629       443192   \n",
      "4     None         22           719        3321       3629       443192   \n",
      "\n",
      "  LGD_Code Village_Name  Water_Body_type Perenniality  Covered Owner_Name  \\\n",
      "0   443192        Godri                5         None        0              \n",
      "1   443192        Godri                5         None        0              \n",
      "2   443192        Godri                5         None        0              \n",
      "3   443192        Godri                5         None        0              \n",
      "4   443192        Godri                2         None        0              \n",
      "\n",
      "  Property_Id      Area_Sqm Remarks Adl_Info  SHAPE_Length    SHAPE_Area  \\\n",
      "0              31247.267116                     723.415016  31247.267116   \n",
      "1               5406.106820                     276.738995   5406.106820   \n",
      "2                774.955605                     102.848755    774.955605   \n",
      "3                639.451058                     115.385743    639.451058   \n",
      "4              16725.015373                    1837.959504  16725.015373   \n",
      "\n",
      "                                            geometry  \n",
      "0  MULTIPOLYGON (((9054766.515 2361926.414, 90547...  \n",
      "1  MULTIPOLYGON (((9054799.171 2361576.527, 90547...  \n",
      "2  MULTIPOLYGON (((9054880.174 2361687.302, 90548...  \n",
      "3  MULTIPOLYGON (((9055108.878 2361872.111, 90551...  \n",
      "4  MULTIPOLYGON (((9054664.03 2361437.181, 905466...  \n",
      "\n",
      "  GlobalID State_Code District_Code Tehsil_Code Block_Code Village_Code  \\\n",
      "0     None         22           719        3321       3629       443192   \n",
      "1     None         22           719        3321       3629       443192   \n",
      "2     None         22           719        3321       3629       443192   \n",
      "3     None         22           719        3321       3629       443192   \n",
      "4     None         22           719        3321       3629       443192   \n",
      "\n",
      "  LGD_Code Village_Name Name  Road_type Property_Id  Width Pavement Status  \\\n",
      "0   443192        Godri               5              7.000                   \n",
      "1   443192        Godri               6              2.793                   \n",
      "2   443192        Godri               5              3.127                   \n",
      "3   443192        Godri               5              3.077                   \n",
      "4   443192        Godri               5              2.200                   \n",
      "\n",
      "  Built_On Carriageway Remarks Adl_Info  SHAPE_Length  \\\n",
      "0                                          792.865222   \n",
      "1                                           84.046024   \n",
      "2                                          478.801995   \n",
      "3                                           71.145246   \n",
      "4                                           39.166596   \n",
      "\n",
      "                                            geometry  \n",
      "0  MULTILINESTRING ((9054619.766 2361473.058, 905...  \n",
      "1  MULTILINESTRING ((9054726.187 2361591.669, 905...  \n",
      "2  MULTILINESTRING ((9054755.416 2361655.082, 905...  \n",
      "3  MULTILINESTRING ((9054991.778 2361909.658, 905...  \n",
      "4  MULTILINESTRING ((9054997.071 2361977.7, 90550...  \n",
      "\n"
     ]
    }
   ],
   "source": [
    "# Step 9: Ensure layers loaded correctly\n",
    "print(built_up_area_features.head(), end='\\n\\n')\n",
    "print(water_features.head(), end='\\n\\n')\n",
    "print(road_features.head(), end='\\n\\n')\n"
   ]
  },
  {
   "cell_type": "code",
   "execution_count": 13,
   "metadata": {
    "executionInfo": {
     "elapsed": 8,
     "status": "ok",
     "timestamp": 1727286381819,
     "user": {
      "displayName": "Mohammed Abdul Rahman",
      "userId": "09326645253687834254"
     },
     "user_tz": -330
    },
    "id": "rkcAL3de5nqc"
   },
   "outputs": [],
   "source": [
    "# Step 10: Define rasterization function to convert geometries into raster form\n",
    "def rasterize_features(features, out_shape, transform, label_value):\n",
    "    \"\"\"Rasterizes a given GeoDataFrame's geometries to a label value.\"\"\"\n",
    "    geometries = [(geom, label_value) for geom in features.geometry]\n",
    "    rasterized = rasterize(\n",
    "        geometries,\n",
    "        out_shape=out_shape,\n",
    "        transform=transform,\n",
    "        fill=0,  # Background\n",
    "        dtype=np.uint8\n",
    "    )\n",
    "    return rasterized\n"
   ]
  },
  {
   "cell_type": "code",
   "execution_count": 15,
   "metadata": {
    "colab": {
     "base_uri": "https://localhost:8080/",
     "height": 163
    },
    "executionInfo": {
     "elapsed": 475,
     "status": "error",
     "timestamp": 1727286060179,
     "user": {
      "displayName": "Mohammed Abdul Rahman",
      "userId": "09326645253687834254"
     },
     "user_tz": -330
    },
    "id": "qphV0KmFF-a5",
    "outputId": "18de0864-5849-48b9-db7c-4b933e690b84"
   },
   "outputs": [
    {
     "ename": "TypeError",
     "evalue": "from_bounds() takes 6 positional arguments but 8 were given",
     "output_type": "error",
     "traceback": [
      "\u001b[0;31m---------------------------------------------------------------------------\u001b[0m",
      "\u001b[0;31mTypeError\u001b[0m                                 Traceback (most recent call last)",
      "\u001b[0;32m<ipython-input-15-1027600e4b96>\u001b[0m in \u001b[0;36m<cell line: 1>\u001b[0;34m()\u001b[0m\n\u001b[0;32m----> 1\u001b[0;31m \u001b[0mtransform\u001b[0m \u001b[0;34m=\u001b[0m \u001b[0mrasterio\u001b[0m\u001b[0;34m.\u001b[0m\u001b[0mtransform\u001b[0m\u001b[0;34m.\u001b[0m\u001b[0mfrom_bounds\u001b[0m\u001b[0;34m(\u001b[0m\u001b[0;34m*\u001b[0m\u001b[0mtiff_dataset\u001b[0m\u001b[0;34m.\u001b[0m\u001b[0mGetGeoTransform\u001b[0m\u001b[0;34m(\u001b[0m\u001b[0;34m)\u001b[0m\u001b[0;34m,\u001b[0m \u001b[0mwidth\u001b[0m\u001b[0;34m,\u001b[0m \u001b[0mheight\u001b[0m\u001b[0;34m)\u001b[0m\u001b[0;34m\u001b[0m\u001b[0;34m\u001b[0m\u001b[0m\n\u001b[0m",
      "\u001b[0;31mTypeError\u001b[0m: from_bounds() takes 6 positional arguments but 8 were given"
     ]
    }
   ],
   "source": [
    "transform = rasterio.transform.from_bounds(*tiff_dataset.GetGeoTransform(), width, height)"
   ]
  },
  {
   "cell_type": "code",
   "execution_count": 14,
   "metadata": {
    "executionInfo": {
     "elapsed": 5219,
     "status": "ok",
     "timestamp": 1727286387867,
     "user": {
      "displayName": "Mohammed Abdul Rahman",
      "userId": "09326645253687834254"
     },
     "user_tz": -330
    },
    "id": "BgqdHKgV5s7q"
   },
   "outputs": [],
   "source": [
    "# Step 11: Rasterize the features into different labels\n",
    "\n",
    "transform = rasterio.transform.from_bounds(*tiff_dataset.GetGeoTransform()[:4], width, height)\n",
    "\n",
    "# Roads (label=1), Water bodies (label=2), Built-up areas (label=3)\n",
    "roads_raster = rasterize_features(road_features, (height, width), transform, label_value=1)\n",
    "water_raster = rasterize_features(water_features, (height, width), transform, label_value=2)\n",
    "built_up_raster = rasterize_features(built_up_area_features, (height, width), transform, label_value=3)"
   ]
  },
  {
   "cell_type": "code",
   "execution_count": 15,
   "metadata": {
    "executionInfo": {
     "elapsed": 764,
     "status": "ok",
     "timestamp": 1727286388625,
     "user": {
      "displayName": "Mohammed Abdul Rahman",
      "userId": "09326645253687834254"
     },
     "user_tz": -330
    },
    "id": "4sXesGZA5uA2"
   },
   "outputs": [],
   "source": [
    "y = np.zeros((height, width), dtype=np.uint8)\n",
    "y[roads_raster == 1] = 1\n",
    "y[water_raster == 2] = 2\n",
    "y[built_up_raster == 3] = 3\n"
   ]
  },
  {
   "cell_type": "code",
   "execution_count": 16,
   "metadata": {
    "executionInfo": {
     "elapsed": 9,
     "status": "ok",
     "timestamp": 1727286388626,
     "user": {
      "displayName": "Mohammed Abdul Rahman",
      "userId": "09326645253687834254"
     },
     "user_tz": -330
    },
    "id": "jiV1X8go5x1J"
   },
   "outputs": [],
   "source": [
    "X = raster_data.reshape((height, width, 1))\n"
   ]
  },
  {
   "cell_type": "code",
   "execution_count": 17,
   "metadata": {
    "colab": {
     "base_uri": "https://localhost:8080/"
    },
    "executionInfo": {
     "elapsed": 9002,
     "status": "ok",
     "timestamp": 1727286397620,
     "user": {
      "displayName": "Mohammed Abdul Rahman",
      "userId": "09326645253687834254"
     },
     "user_tz": -330
    },
    "id": "b5q1PY7455MZ",
    "outputId": "7970f13e-2de1-4f54-aa3f-a2bcd33137d9"
   },
   "outputs": [
    {
     "name": "stdout",
     "output_type": "stream",
     "text": [
      "Rasterized label shape: (12555, 16609)\n",
      "Sample values from combined labels: [0]\n"
     ]
    }
   ],
   "source": [
    "print(\"Rasterized label shape:\", y.shape)\n",
    "print(\"Sample values from combined labels:\", np.unique(y))"
   ]
  },
  {
   "cell_type": "markdown",
   "metadata": {
    "id": "S6pIWgGvRC2C"
   },
   "source": []
  },
  {
   "cell_type": "markdown",
   "metadata": {
    "id": "o9u_1HODBHbc"
   },
   "source": [
    "# MODEL BUILDING STARTS HERE"
   ]
  },
  {
   "cell_type": "code",
   "execution_count": 18,
   "metadata": {
    "executionInfo": {
     "elapsed": 33,
     "status": "ok",
     "timestamp": 1727286397621,
     "user": {
      "displayName": "Mohammed Abdul Rahman",
      "userId": "09326645253687834254"
     },
     "user_tz": -330
    },
    "id": "U7nQE7s396xe"
   },
   "outputs": [],
   "source": [
    "import numpy as np\n",
    "\n",
    "# Reshape `X` to have 3 dimensions (height, width, channels)\n",
    "height, width = raster_data.shape  # Assuming `raster_data` is 2D (grayscale)\n",
    "X = raster_data.reshape((height, width, 1))  # Reshaping to (height, width, 1) for grayscale\n",
    "\n",
    "# `y` should already be a 2D array where each pixel has its label (0, 1, 2, 3)\n",
    "# Ensure that the shape of `y` is (height, width)\n",
    "assert y.shape == (height, width), \"Label shape mismatch!\"\n"
   ]
  },
  {
   "cell_type": "code",
   "execution_count": 34,
   "metadata": {
    "executionInfo": {
     "elapsed": 2528,
     "status": "ok",
     "timestamp": 1727283156056,
     "user": {
      "displayName": "Mohammed Abdul Rahman",
      "userId": "09326645253687834254"
     },
     "user_tz": -330
    },
    "id": "FrAHEKsV98Ph"
   },
   "outputs": [],
   "source": [
    "from sklearn.model_selection import train_test_split\n",
    "\n",
    "# Split the data into training and testing sets\n",
    "X_train, X_test, y_train, y_test = train_test_split(X, y, test_size=0.2, random_state=42)\n"
   ]
  },
  {
   "cell_type": "code",
   "execution_count": 1,
   "metadata": {
    "colab": {
     "base_uri": "https://localhost:8080/",
     "height": 252
    },
    "executionInfo": {
     "elapsed": 12048,
     "status": "error",
     "timestamp": 1727286705423,
     "user": {
      "displayName": "Mohammed Abdul Rahman",
      "userId": "09326645253687834254"
     },
     "user_tz": -330
    },
    "id": "2TjhG8VB9_ue",
    "outputId": "707047d8-33de-4e3e-eb27-19ed555f9987"
   },
   "outputs": [
    {
     "ename": "NameError",
     "evalue": "name 'X' is not defined",
     "output_type": "error",
     "traceback": [
      "\u001b[0;31m---------------------------------------------------------------------------\u001b[0m",
      "\u001b[0;31mNameError\u001b[0m                                 Traceback (most recent call last)",
      "\u001b[0;32m<ipython-input-1-7c2b7bcd2d00>\u001b[0m in \u001b[0;36m<cell line: 16>\u001b[0;34m()\u001b[0m\n\u001b[1;32m     14\u001b[0m \u001b[0;34m\u001b[0m\u001b[0m\n\u001b[1;32m     15\u001b[0m \u001b[0;31m# Resize the image data\u001b[0m\u001b[0;34m\u001b[0m\u001b[0;34m\u001b[0m\u001b[0m\n\u001b[0;32m---> 16\u001b[0;31m \u001b[0mX_resized\u001b[0m \u001b[0;34m=\u001b[0m \u001b[0mnp\u001b[0m\u001b[0;34m.\u001b[0m\u001b[0marray\u001b[0m\u001b[0;34m(\u001b[0m\u001b[0;34m[\u001b[0m\u001b[0mresize\u001b[0m\u001b[0;34m(\u001b[0m\u001b[0mimage\u001b[0m\u001b[0;34m,\u001b[0m \u001b[0;34m(\u001b[0m\u001b[0mheight_resized\u001b[0m\u001b[0;34m,\u001b[0m \u001b[0mwidth_resized\u001b[0m\u001b[0;34m,\u001b[0m \u001b[0;36m1\u001b[0m\u001b[0;34m)\u001b[0m\u001b[0;34m,\u001b[0m \u001b[0mpreserve_range\u001b[0m\u001b[0;34m=\u001b[0m\u001b[0;32mTrue\u001b[0m\u001b[0;34m,\u001b[0m \u001b[0manti_aliasing\u001b[0m\u001b[0;34m=\u001b[0m\u001b[0;32mTrue\u001b[0m\u001b[0;34m)\u001b[0m \u001b[0;32mfor\u001b[0m \u001b[0mimage\u001b[0m \u001b[0;32min\u001b[0m \u001b[0mX\u001b[0m\u001b[0;34m]\u001b[0m\u001b[0;34m)\u001b[0m\u001b[0;34m\u001b[0m\u001b[0;34m\u001b[0m\u001b[0m\n\u001b[0m\u001b[1;32m     17\u001b[0m \u001b[0;34m\u001b[0m\u001b[0m\n\u001b[1;32m     18\u001b[0m \u001b[0;31m# No need to resize y unless your task requires it, but you may convert it to categorical if needed\u001b[0m\u001b[0;34m\u001b[0m\u001b[0;34m\u001b[0m\u001b[0m\n",
      "\u001b[0;31mNameError\u001b[0m: name 'X' is not defined"
     ]
    }
   ],
   "source": [
    "# Import necessary libraries\n",
    "import numpy as np\n",
    "from skimage.transform import resize\n",
    "import tensorflow as tf\n",
    "from tensorflow.keras.models import Sequential\n",
    "from tensorflow.keras.layers import Conv2D, MaxPooling2D, Flatten, Dense, Input\n",
    "from tensorflow.keras.optimizers import Adam\n",
    "from tensorflow.keras.utils import to_categorical\n",
    "from sklearn.model_selection import train_test_split\n",
    "from sklearn.metrics import accuracy_score, classification_report\n",
    "\n",
    "# Resize the input data\n",
    "height_resized, width_resized = 256, 256\n",
    "\n",
    "# Resize the image data\n",
    "X_resized = np.array([resize(image, (height_resized, width_resized, 1), preserve_range=True, anti_aliasing=True) for image in X])\n",
    "\n",
    "# No need to resize y unless your task requires it, but you may convert it to categorical if needed\n",
    "y_resized = y\n",
    "\n",
    "model = Sequential()\n",
    "\n",
    "model.add(Input(shape=(height_resized, width_resized, 1)))\n",
    "model.add(Conv2D(16, (3, 3), activation='relu'))  # Reduce number of filters\n",
    "model.add(MaxPooling2D(pool_size=(2, 2)))\n",
    "\n",
    "model.add(Conv2D(32, (3, 3), activation='relu'))\n",
    "model.add(MaxPooling2D(pool_size=(2, 2)))\n",
    "\n",
    "# Flatten and fully connected layers\n",
    "model.add(Flatten())\n",
    "model.add(Dense(64, activation='relu'))  # Reduce the number of neurons\n",
    "model.add(Dense(4, activation='softmax'))\n",
    "\n",
    "# Compile the model\n",
    "model.compile(optimizer='adam', loss='sparse_categorical_crossentropy', metrics=['accuracy'])\n",
    "\n",
    "\n",
    "# Now split the data into training and testing sets\n",
    "from sklearn.model_selection import train_test_split\n",
    "\n",
    "X_train, X_test, y_train, y_test = train_test_split(X_resized, y_resized, test_size=0.2, random_state=42)\n",
    "\n",
    "# Train the model\n",
    "history = model.fit(X_train, y_train, epochs=10, batch_size=16, validation_data=(X_test, y_test))\n",
    "\n",
    "# Evaluate the model\n",
    "test_loss, test_acc = model.evaluate(X_test, y_test, verbose=2)\n",
    "print(f\"Test accuracy: {test_acc:.2f}\")"
   ]
  },
  {
   "cell_type": "code",
   "execution_count": null,
   "metadata": {
    "id": "GFuVDAGeSd98"
   },
   "outputs": [],
   "source": []
  }
 ],
 "metadata": {
  "colab": {
   "authorship_tag": "ABX9TyPPfedl8S2LoCfNLHdAaNX+",
   "provenance": []
  },
  "kernelspec": {
   "display_name": "Python 3 (ipykernel)",
   "language": "python",
   "name": "python3"
  },
  "language_info": {
   "codemirror_mode": {
    "name": "ipython",
    "version": 3
   },
   "file_extension": ".py",
   "mimetype": "text/x-python",
   "name": "python",
   "nbconvert_exporter": "python",
   "pygments_lexer": "ipython3",
   "version": "3.12.3"
  }
 },
 "nbformat": 4,
 "nbformat_minor": 4
}
